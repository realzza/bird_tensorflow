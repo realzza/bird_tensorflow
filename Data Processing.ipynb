{
 "cells": [
  {
   "cell_type": "code",
   "execution_count": 2,
   "metadata": {},
   "outputs": [],
   "source": [
    "import os\n",
    "import numpy as np\n",
    "import pandas as pd\n",
    "from tqdm import tqdm"
   ]
  },
  {
   "cell_type": "code",
   "execution_count": 3,
   "metadata": {},
   "outputs": [],
   "source": [
    "# specs directory\n",
    "train_spec_dir = '/Netdata/2020/ziang/data/guangdong194/dataset/rest_25/specs/train_specs/'\n",
    "val_spec_dir = '/Netdata/2020/ziang/data/guangdong194/dataset/rest_25/specs/val_specs/'"
   ]
  },
  {
   "cell_type": "code",
   "execution_count": 4,
   "metadata": {},
   "outputs": [
    {
     "data": {
      "text/plain": [
       "{'charadrius_dubius': 2000,\n",
       " 'gallinago_gallinago': 2000,\n",
       " 'hirundo_rustica': 2000,\n",
       " 'motacilla_alba': 2000,\n",
       " 'orthotomus_sutorius': 2000,\n",
       " 'parus_minor': 2000,\n",
       " 'prinia_inornata': 2000,\n",
       " 'tringa_glareola': 2000,\n",
       " 'cecropis_daurica': 1853,\n",
       " 'motacilla_tschutschensis': 1749,\n",
       " 'spilopelia_chinensis': 1692,\n",
       " 'egretta_garzetta': 1645,\n",
       " 'ardea_alba': 1496,\n",
       " 'pycnonotus_jocosus': 1092,\n",
       " 'prinia_flaviventris': 990,\n",
       " 'himantopus_himantopus': 980,\n",
       " 'pycnonotus_sinensis': 977,\n",
       " 'lonchura_punctulata': 869,\n",
       " 'zosterops_japonicus': 813,\n",
       " 'tringa_stagnatilis': 726,\n",
       " 'tringa_erythropus': 718,\n",
       " 'apus_nipalensis': 609,\n",
       " 'acridotheres_cristatellus': 543,\n",
       " 'tachybaptus_ruficollis': 345,\n",
       " 'gracupica_nigricollis': 253}"
      ]
     },
     "execution_count": 4,
     "metadata": {},
     "output_type": "execute_result"
    }
   ],
   "source": [
    "all_birds = os.listdir(train_spec_dir)\n",
    "# do a statistics\n",
    "train_stats = {bird:len(os.listdir(train_spec_dir+bird)) for bird in all_birds}\n",
    "val_stats = {bird:len(os.listdir(val_spec_dir+bird)) for bird in all_birds}\n",
    "# sort descending\n",
    "train_stats = {k: v for k, v in sorted(train_stats.items(), key=lambda item: item[1], reverse=True)}\n",
    "val_stats = {k: v for k, v in sorted(val_stats.items(), key=lambda item: item[1], reverse=True)}\n",
    "# show result\n",
    "train_stats"
   ]
  },
  {
   "cell_type": "markdown",
   "metadata": {},
   "source": [
    "**Note:** I noticed that this is not the dataset with the most balanced bird. There are two motivations to use tensorflow.\n",
    "   1. check Data Augmentation methods on images (spectrograms)\n",
    "   2. find a more balanced set\n",
    "   \n",
    "So now I will make up a new dataset with more and more balanced data."
   ]
  },
  {
   "cell_type": "markdown",
   "metadata": {},
   "source": [
    "I just recalled that I sorted the entire file with all noises into files based on the species they are from."
   ]
  },
  {
   "cell_type": "code",
   "execution_count": 28,
   "metadata": {},
   "outputs": [
    {
     "data": {
      "text/plain": [
       "{'phylloscopus_fuscatus': 24602,\n",
       " 'cyanoptila_cyanomelana': 18242,\n",
       " 'motacilla_alba': 16096,\n",
       " 'turdus_merula': 11427,\n",
       " 'ficedula_narcissina': 10377,\n",
       " 'riparia_riparia': 9701,\n",
       " 'limosa_limosa': 8761,\n",
       " 'hirundo_rustica': 8332,\n",
       " 'ardea_cinerea': 8180,\n",
       " 'EurasianHoopoe': 7794,\n",
       " 'cuculus_canorus': 7428,\n",
       " 'pandion_haliaetus': 7301,\n",
       " 'tringa_glareola': 6727,\n",
       " 'muscicapa_griseisticta': 6579,\n",
       " 'acrocephalus_orientalis': 6081,\n",
       " 'chlidonias_hybrida': 5785,\n",
       " 'phoenicurus_auroreus': 5636,\n",
       " 'arenaria_interpres': 5560,\n",
       " 'fulica_atra': 4977,\n",
       " 'falco_peregrinus': 4933,\n",
       " 'falco_subbuteo': 4924,\n",
       " 'charadrius_hiaticula': 4923,\n",
       " 'cisticola_juncidis': 4862,\n",
       " 'actitis_hypoleucos': 4733,\n",
       " 'tringa_nebularia': 4699,\n",
       " 'spilornis_cheela': 4574,\n",
       " 'chroicocephalus_ridibundus': 4478,\n",
       " 'gallinula_chloropus': 4460,\n",
       " 'emberiza_pusilla': 4061,\n",
       " 'corvus_macrorhynchos': 3911,\n",
       " 'dicrurus_macrocercus': 3904,\n",
       " 'turdus_cardis': 3607,\n",
       " 'calidris_alba': 3413,\n",
       " 'hypothymis_azurea': 3120,\n",
       " 'Brown-flankedBushWarbler': 3055,\n",
       " 'phylloscopus_tenellipes': 2971,\n",
       " 'eudynamys_scolopaceus': 2916,\n",
       " 'charadrius_dubius': 2848,\n",
       " 'turdus_obscurus': 2727,\n",
       " 'emberiza_melanocephala': 2709,\n",
       " 'phylloscopus_borealis': 2698,\n",
       " 'calidris_canutus': 2542,\n",
       " 'streptopelia_orientalis': 2510}"
      ]
     },
     "execution_count": 28,
     "metadata": {},
     "output_type": "execute_result"
    }
   ],
   "source": [
    "# datadir with all segmented audio\n",
    "data_dir_all = '/Netdata/2020/ziang/data/guangdong194/dataset/splited_data/train_dirs/'\n",
    "all_birds = os.listdir(data_dir_all)\n",
    "# all 93 birds stats\n",
    "bird_all_stats = {bird:len(os.listdir(data_dir_all+bird)) for bird in all_birds}\n",
    "all_train_stats = {k: v for k, v in sorted(bird_all_stats.items(), key=lambda item: item[1], reverse=True) if v > 2500}\n",
    "all_train_stats"
   ]
  },
  {
   "cell_type": "code",
   "execution_count": 29,
   "metadata": {},
   "outputs": [
    {
     "data": {
      "text/plain": [
       "43"
      ]
     },
     "execution_count": 29,
     "metadata": {},
     "output_type": "execute_result"
    }
   ],
   "source": [
    "len(all_train_stats)"
   ]
  },
  {
   "cell_type": "code",
   "execution_count": 30,
   "metadata": {},
   "outputs": [],
   "source": [
    "# take a union of the most presented birds\n",
    "presence_excel = '/Netdata/2020/ziang/data/guangdong194/guangdong194_updated.xlsx'\n",
    "presence_all = pd.read_excel(presence_excel).head(50)\n",
    "# presence_all.head(50)"
   ]
  },
  {
   "cell_type": "code",
   "execution_count": 35,
   "metadata": {},
   "outputs": [],
   "source": [
    "# find intersections with both most presence and data\n",
    "def find_intersection(stats, excel):\n",
    "    count = []\n",
    "    for bird in excel:\n",
    "        if '_'.join(bird.split()).lower() in stats:\n",
    "            count.append('_'.join(bird.split()).lower())\n",
    "#         else:\n",
    "#             print('... %s not satisfied...'%bird)\n",
    "    print('... %d birds in common ...'%len(count))\n",
    "    return count"
   ]
  },
  {
   "cell_type": "code",
   "execution_count": 37,
   "metadata": {},
   "outputs": [
    {
     "name": "stdout",
     "output_type": "stream",
     "text": [
      "... 12 birds in common ...\n"
     ]
    }
   ],
   "source": [
    "birds_most_data = list(all_train_stats.keys())\n",
    "birds_most_pres = list(presence_all['拉丁学名'])\n",
    "best_birds = find_intersection(birds_most_data, birds_most_pres)"
   ]
  },
  {
   "cell_type": "code",
   "execution_count": 38,
   "metadata": {},
   "outputs": [
    {
     "data": {
      "text/plain": [
       "32"
      ]
     },
     "execution_count": 38,
     "metadata": {},
     "output_type": "execute_result"
    }
   ],
   "source": [
    "for bird in birds_most_data[:30]:\n",
    "    if bird not in best_birds:\n",
    "        best_birds.append(bird)\n",
    "len(best_birds)"
   ]
  },
  {
   "cell_type": "markdown",
   "metadata": {},
   "source": [
    "### Best 32 Birds\n",
    "Now we have fixed the best bucket containing the best birds with best data and most presence. Originally we have 32 birds, we remove the last two, who has relatively less data. Now we have data of **30** birds in total."
   ]
  },
  {
   "cell_type": "code",
   "execution_count": 53,
   "metadata": {},
   "outputs": [],
   "source": [
    "best_32_stats_train = {bird:len(os.listdir(data_dir_all+bird)) for bird in best_birds}\n",
    "best_30_stats_train = {k: v for k, v in sorted(best_32_stats_train.items(), key=lambda item: item[1], reverse=True) if v > 3900}"
   ]
  },
  {
   "cell_type": "code",
   "execution_count": 54,
   "metadata": {},
   "outputs": [
    {
     "data": {
      "text/plain": [
       "{'phylloscopus_fuscatus': 24602,\n",
       " 'cyanoptila_cyanomelana': 18242,\n",
       " 'motacilla_alba': 16096,\n",
       " 'turdus_merula': 11427,\n",
       " 'ficedula_narcissina': 10377,\n",
       " 'riparia_riparia': 9701,\n",
       " 'limosa_limosa': 8761,\n",
       " 'hirundo_rustica': 8332,\n",
       " 'ardea_cinerea': 8180,\n",
       " 'EurasianHoopoe': 7794,\n",
       " 'cuculus_canorus': 7428,\n",
       " 'pandion_haliaetus': 7301,\n",
       " 'tringa_glareola': 6727,\n",
       " 'muscicapa_griseisticta': 6579,\n",
       " 'acrocephalus_orientalis': 6081,\n",
       " 'chlidonias_hybrida': 5785,\n",
       " 'phoenicurus_auroreus': 5636,\n",
       " 'arenaria_interpres': 5560,\n",
       " 'fulica_atra': 4977,\n",
       " 'falco_peregrinus': 4933,\n",
       " 'falco_subbuteo': 4924,\n",
       " 'charadrius_hiaticula': 4923,\n",
       " 'cisticola_juncidis': 4862,\n",
       " 'actitis_hypoleucos': 4733,\n",
       " 'tringa_nebularia': 4699,\n",
       " 'spilornis_cheela': 4574,\n",
       " 'chroicocephalus_ridibundus': 4478,\n",
       " 'gallinula_chloropus': 4460,\n",
       " 'emberiza_pusilla': 4061,\n",
       " 'corvus_macrorhynchos': 3911}"
      ]
     },
     "execution_count": 54,
     "metadata": {},
     "output_type": "execute_result"
    }
   ],
   "source": [
    "best_30_stats_train"
   ]
  },
  {
   "cell_type": "code",
   "execution_count": 57,
   "metadata": {},
   "outputs": [
    {
     "ename": "FileNotFoundError",
     "evalue": "[Errno 2] No such file or directory: '/Netdata/2020/ziang/data/guangdong194/dataset/splited_data/val/motacilla_alba'",
     "output_type": "error",
     "traceback": [
      "\u001b[0;31m---------------------------------------------------------------------------\u001b[0m",
      "\u001b[0;31mFileNotFoundError\u001b[0m                         Traceback (most recent call last)",
      "\u001b[0;32m<ipython-input-57-e82081ccab4b>\u001b[0m in \u001b[0;36m<module>\u001b[0;34m\u001b[0m\n\u001b[1;32m      1\u001b[0m \u001b[0mdata_dir_val\u001b[0m \u001b[0;34m=\u001b[0m \u001b[0;34m'/Netdata/2020/ziang/data/guangdong194/dataset/splited_data/val/'\u001b[0m\u001b[0;34m\u001b[0m\u001b[0;34m\u001b[0m\u001b[0m\n\u001b[0;32m----> 2\u001b[0;31m \u001b[0mbest_32_stats_val\u001b[0m \u001b[0;34m=\u001b[0m \u001b[0;34m{\u001b[0m\u001b[0mbird\u001b[0m\u001b[0;34m:\u001b[0m\u001b[0mlen\u001b[0m\u001b[0;34m(\u001b[0m\u001b[0mos\u001b[0m\u001b[0;34m.\u001b[0m\u001b[0mlistdir\u001b[0m\u001b[0;34m(\u001b[0m\u001b[0mdata_dir_val\u001b[0m\u001b[0;34m+\u001b[0m\u001b[0mbird\u001b[0m\u001b[0;34m)\u001b[0m\u001b[0;34m)\u001b[0m \u001b[0;32mfor\u001b[0m \u001b[0mbird\u001b[0m \u001b[0;32min\u001b[0m \u001b[0mbest_birds\u001b[0m\u001b[0;34m}\u001b[0m\u001b[0;34m\u001b[0m\u001b[0;34m\u001b[0m\u001b[0m\n\u001b[0m\u001b[1;32m      3\u001b[0m \u001b[0mbest_30_stats_val\u001b[0m \u001b[0;34m=\u001b[0m \u001b[0;34m{\u001b[0m\u001b[0mk\u001b[0m\u001b[0;34m:\u001b[0m \u001b[0mv\u001b[0m \u001b[0;32mfor\u001b[0m \u001b[0mk\u001b[0m\u001b[0;34m,\u001b[0m \u001b[0mv\u001b[0m \u001b[0;32min\u001b[0m \u001b[0msorted\u001b[0m\u001b[0;34m(\u001b[0m\u001b[0mbest_32_stats_val\u001b[0m\u001b[0;34m.\u001b[0m\u001b[0mitems\u001b[0m\u001b[0;34m(\u001b[0m\u001b[0;34m)\u001b[0m\u001b[0;34m,\u001b[0m \u001b[0mkey\u001b[0m\u001b[0;34m=\u001b[0m\u001b[0;32mlambda\u001b[0m \u001b[0mitem\u001b[0m\u001b[0;34m:\u001b[0m \u001b[0mitem\u001b[0m\u001b[0;34m[\u001b[0m\u001b[0;36m1\u001b[0m\u001b[0;34m]\u001b[0m\u001b[0;34m,\u001b[0m \u001b[0mreverse\u001b[0m\u001b[0;34m=\u001b[0m\u001b[0;32mTrue\u001b[0m\u001b[0;34m)\u001b[0m \u001b[0;32mif\u001b[0m \u001b[0mv\u001b[0m \u001b[0;34m>\u001b[0m \u001b[0;36m3900\u001b[0m\u001b[0;34m}\u001b[0m\u001b[0;34m\u001b[0m\u001b[0;34m\u001b[0m\u001b[0m\n",
      "\u001b[0;32m<ipython-input-57-e82081ccab4b>\u001b[0m in \u001b[0;36m<dictcomp>\u001b[0;34m(.0)\u001b[0m\n\u001b[1;32m      1\u001b[0m \u001b[0mdata_dir_val\u001b[0m \u001b[0;34m=\u001b[0m \u001b[0;34m'/Netdata/2020/ziang/data/guangdong194/dataset/splited_data/val/'\u001b[0m\u001b[0;34m\u001b[0m\u001b[0;34m\u001b[0m\u001b[0m\n\u001b[0;32m----> 2\u001b[0;31m \u001b[0mbest_32_stats_val\u001b[0m \u001b[0;34m=\u001b[0m \u001b[0;34m{\u001b[0m\u001b[0mbird\u001b[0m\u001b[0;34m:\u001b[0m\u001b[0mlen\u001b[0m\u001b[0;34m(\u001b[0m\u001b[0mos\u001b[0m\u001b[0;34m.\u001b[0m\u001b[0mlistdir\u001b[0m\u001b[0;34m(\u001b[0m\u001b[0mdata_dir_val\u001b[0m\u001b[0;34m+\u001b[0m\u001b[0mbird\u001b[0m\u001b[0;34m)\u001b[0m\u001b[0;34m)\u001b[0m \u001b[0;32mfor\u001b[0m \u001b[0mbird\u001b[0m \u001b[0;32min\u001b[0m \u001b[0mbest_birds\u001b[0m\u001b[0;34m}\u001b[0m\u001b[0;34m\u001b[0m\u001b[0;34m\u001b[0m\u001b[0m\n\u001b[0m\u001b[1;32m      3\u001b[0m \u001b[0mbest_30_stats_val\u001b[0m \u001b[0;34m=\u001b[0m \u001b[0;34m{\u001b[0m\u001b[0mk\u001b[0m\u001b[0;34m:\u001b[0m \u001b[0mv\u001b[0m \u001b[0;32mfor\u001b[0m \u001b[0mk\u001b[0m\u001b[0;34m,\u001b[0m \u001b[0mv\u001b[0m \u001b[0;32min\u001b[0m \u001b[0msorted\u001b[0m\u001b[0;34m(\u001b[0m\u001b[0mbest_32_stats_val\u001b[0m\u001b[0;34m.\u001b[0m\u001b[0mitems\u001b[0m\u001b[0;34m(\u001b[0m\u001b[0;34m)\u001b[0m\u001b[0;34m,\u001b[0m \u001b[0mkey\u001b[0m\u001b[0;34m=\u001b[0m\u001b[0;32mlambda\u001b[0m \u001b[0mitem\u001b[0m\u001b[0;34m:\u001b[0m \u001b[0mitem\u001b[0m\u001b[0;34m[\u001b[0m\u001b[0;36m1\u001b[0m\u001b[0;34m]\u001b[0m\u001b[0;34m,\u001b[0m \u001b[0mreverse\u001b[0m\u001b[0;34m=\u001b[0m\u001b[0;32mTrue\u001b[0m\u001b[0;34m)\u001b[0m \u001b[0;32mif\u001b[0m \u001b[0mv\u001b[0m \u001b[0;34m>\u001b[0m \u001b[0;36m3900\u001b[0m\u001b[0;34m}\u001b[0m\u001b[0;34m\u001b[0m\u001b[0;34m\u001b[0m\u001b[0m\n",
      "\u001b[0;31mFileNotFoundError\u001b[0m: [Errno 2] No such file or directory: '/Netdata/2020/ziang/data/guangdong194/dataset/splited_data/val/motacilla_alba'"
     ]
    }
   ],
   "source": [
    "data_dir_val = '/Netdata/2020/ziang/data/guangdong194/dataset/splited_data/val_/'\n",
    "best_32_stats_val = {bird:len(os.listdir(data_dir_val+bird)) for bird in best_birds}\n",
    "best_30_stats_val = {k: v for k, v in sorted(best_32_stats_val.items(), key=lambda item: item[1], reverse=True) if v > 3900}"
   ]
  },
  {
   "cell_type": "code",
   "execution_count": 56,
   "metadata": {},
   "outputs": [
    {
     "data": {
      "text/plain": [
       "{'phylloscopus_fuscatus': 24602,\n",
       " 'cyanoptila_cyanomelana': 18242,\n",
       " 'motacilla_alba': 16096,\n",
       " 'turdus_merula': 11427,\n",
       " 'ficedula_narcissina': 10377,\n",
       " 'riparia_riparia': 9701,\n",
       " 'limosa_limosa': 8761,\n",
       " 'hirundo_rustica': 8332,\n",
       " 'ardea_cinerea': 8180,\n",
       " 'EurasianHoopoe': 7794,\n",
       " 'cuculus_canorus': 7428,\n",
       " 'pandion_haliaetus': 7301,\n",
       " 'tringa_glareola': 6727,\n",
       " 'muscicapa_griseisticta': 6579,\n",
       " 'acrocephalus_orientalis': 6081,\n",
       " 'chlidonias_hybrida': 5785,\n",
       " 'phoenicurus_auroreus': 5636,\n",
       " 'arenaria_interpres': 5560,\n",
       " 'fulica_atra': 4977,\n",
       " 'falco_peregrinus': 4933,\n",
       " 'falco_subbuteo': 4924,\n",
       " 'charadrius_hiaticula': 4923,\n",
       " 'cisticola_juncidis': 4862,\n",
       " 'actitis_hypoleucos': 4733,\n",
       " 'tringa_nebularia': 4699,\n",
       " 'spilornis_cheela': 4574,\n",
       " 'chroicocephalus_ridibundus': 4478,\n",
       " 'gallinula_chloropus': 4460,\n",
       " 'emberiza_pusilla': 4061,\n",
       " 'corvus_macrorhynchos': 3911}"
      ]
     },
     "execution_count": 56,
     "metadata": {},
     "output_type": "execute_result"
    }
   ],
   "source": [
    "best_30_stats_val"
   ]
  },
  {
   "cell_type": "markdown",
   "metadata": {},
   "source": [
    "Now we set train the model with each bird approximately 4000 clips"
   ]
  },
  {
   "cell_type": "code",
   "execution_count": null,
   "metadata": {},
   "outputs": [],
   "source": []
  }
 ],
 "metadata": {
  "kernelspec": {
   "display_name": "Python 3",
   "language": "python",
   "name": "python3"
  },
  "language_info": {
   "codemirror_mode": {
    "name": "ipython",
    "version": 3
   },
   "file_extension": ".py",
   "mimetype": "text/x-python",
   "name": "python",
   "nbconvert_exporter": "python",
   "pygments_lexer": "ipython3",
   "version": "3.7.6"
  }
 },
 "nbformat": 4,
 "nbformat_minor": 4
}
