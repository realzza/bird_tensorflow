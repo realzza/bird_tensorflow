{
 "cells": [
  {
   "cell_type": "code",
   "execution_count": 1,
   "metadata": {},
   "outputs": [],
   "source": [
    "import os\n",
    "import numpy as np\n",
    "import pandas as pd\n",
    "from tqdm import tqdm\n",
    "from random import shuffle"
   ]
  },
  {
   "cell_type": "code",
   "execution_count": 2,
   "metadata": {},
   "outputs": [],
   "source": [
    "# specs directory\n",
    "train_spec_dir = '/Netdata/2020/ziang/data/guangdong194/dataset/rest_25/specs/train_specs/'\n",
    "val_spec_dir = '/Netdata/2020/ziang/data/guangdong194/dataset/rest_25/specs/val_specs/'"
   ]
  },
  {
   "cell_type": "code",
   "execution_count": 3,
   "metadata": {},
   "outputs": [
    {
     "data": {
      "text/plain": [
       "{'charadrius_dubius': 2000,\n",
       " 'gallinago_gallinago': 2000,\n",
       " 'hirundo_rustica': 2000,\n",
       " 'motacilla_alba': 2000,\n",
       " 'orthotomus_sutorius': 2000,\n",
       " 'parus_minor': 2000,\n",
       " 'prinia_inornata': 2000,\n",
       " 'tringa_glareola': 2000,\n",
       " 'cecropis_daurica': 1853,\n",
       " 'motacilla_tschutschensis': 1749,\n",
       " 'spilopelia_chinensis': 1692,\n",
       " 'egretta_garzetta': 1645,\n",
       " 'ardea_alba': 1496,\n",
       " 'pycnonotus_jocosus': 1092,\n",
       " 'prinia_flaviventris': 990,\n",
       " 'himantopus_himantopus': 980,\n",
       " 'pycnonotus_sinensis': 977,\n",
       " 'lonchura_punctulata': 869,\n",
       " 'zosterops_japonicus': 813,\n",
       " 'tringa_stagnatilis': 726,\n",
       " 'tringa_erythropus': 718,\n",
       " 'apus_nipalensis': 609,\n",
       " 'acridotheres_cristatellus': 543,\n",
       " 'tachybaptus_ruficollis': 345,\n",
       " 'gracupica_nigricollis': 253}"
      ]
     },
     "execution_count": 3,
     "metadata": {},
     "output_type": "execute_result"
    }
   ],
   "source": [
    "all_birds = os.listdir(train_spec_dir)\n",
    "# do a statistics\n",
    "train_stats = {bird:len(os.listdir(train_spec_dir+bird)) for bird in all_birds}\n",
    "val_stats = {bird:len(os.listdir(val_spec_dir+bird)) for bird in all_birds}\n",
    "# sort descending\n",
    "train_stats = {k: v for k, v in sorted(train_stats.items(), key=lambda item: item[1], reverse=True)}\n",
    "val_stats = {k: v for k, v in sorted(val_stats.items(), key=lambda item: item[1], reverse=True)}\n",
    "# show result\n",
    "train_stats"
   ]
  },
  {
   "cell_type": "markdown",
   "metadata": {},
   "source": [
    "**Note:** I noticed that this is not the dataset with the most balanced bird. There are two motivations to use tensorflow.\n",
    "   1. check Data Augmentation methods on images (spectrograms)\n",
    "   2. find a more balanced set\n",
    "   \n",
    "So now I will make up a new dataset with more and more balanced data."
   ]
  },
  {
   "cell_type": "markdown",
   "metadata": {},
   "source": [
    "I just recalled that I sorted the entire file with all noises into files based on the species they are from."
   ]
  },
  {
   "cell_type": "code",
   "execution_count": 4,
   "metadata": {},
   "outputs": [
    {
     "data": {
      "text/plain": [
       "{'phylloscopus_fuscatus': 24602,\n",
       " 'cyanoptila_cyanomelana': 18242,\n",
       " 'motacilla_alba': 16096,\n",
       " 'turdus_merula': 11427,\n",
       " 'ficedula_narcissina': 10377,\n",
       " 'riparia_riparia': 9701,\n",
       " 'limosa_limosa': 8761,\n",
       " 'hirundo_rustica': 8332,\n",
       " 'ardea_cinerea': 8180,\n",
       " 'upupa_epops': 7794,\n",
       " 'cuculus_canorus': 7428,\n",
       " 'pandion_haliaetus': 7301,\n",
       " 'tringa_glareola': 6727,\n",
       " 'muscicapa_griseisticta': 6579,\n",
       " 'acrocephalus_orientalis': 6081,\n",
       " 'chlidonias_hybrida': 5785,\n",
       " 'phoenicurus_auroreus': 5636,\n",
       " 'arenaria_interpres': 5560,\n",
       " 'fulica_atra': 4977,\n",
       " 'falco_peregrinus': 4933,\n",
       " 'falco_subbuteo': 4924,\n",
       " 'charadrius_hiaticula': 4923,\n",
       " 'cisticola_juncidis': 4862,\n",
       " 'actitis_hypoleucos': 4733,\n",
       " 'tringa_nebularia': 4699,\n",
       " 'spilornis_cheela': 4574,\n",
       " 'chroicocephalus_ridibundus': 4478,\n",
       " 'gallinula_chloropus': 4460,\n",
       " 'emberiza_pusilla': 4061,\n",
       " 'corvus_macrorhynchos': 3911,\n",
       " 'dicrurus_macrocercus': 3904,\n",
       " 'turdus_cardis': 3607,\n",
       " 'calidris_alba': 3413,\n",
       " 'hypothymis_azurea': 3120,\n",
       " 'horornis_fortipes': 3055,\n",
       " 'phylloscopus_tenellipes': 2971,\n",
       " 'eudynamys_scolopaceus': 2916,\n",
       " 'charadrius_dubius': 2848,\n",
       " 'turdus_obscurus': 2727,\n",
       " 'emberiza_melanocephala': 2709,\n",
       " 'phylloscopus_borealis': 2698,\n",
       " 'calidris_canutus': 2542,\n",
       " 'streptopelia_orientalis': 2510}"
      ]
     },
     "execution_count": 4,
     "metadata": {},
     "output_type": "execute_result"
    }
   ],
   "source": [
    "# datadir with all segmented audio\n",
    "data_dir_all = '/Netdata/2020/ziang/data/guangdong194/dataset/splited_data/train_dirs/'\n",
    "all_birds = os.listdir(data_dir_all)\n",
    "# all 93 birds stats\n",
    "bird_all_stats = {bird:len(os.listdir(data_dir_all+bird)) for bird in all_birds}\n",
    "all_train_stats = {k: v for k, v in sorted(bird_all_stats.items(), key=lambda item: item[1], reverse=True) if v > 2500}\n",
    "all_train_stats"
   ]
  },
  {
   "cell_type": "code",
   "execution_count": 5,
   "metadata": {},
   "outputs": [
    {
     "data": {
      "text/plain": [
       "43"
      ]
     },
     "execution_count": 5,
     "metadata": {},
     "output_type": "execute_result"
    }
   ],
   "source": [
    "len(all_train_stats)"
   ]
  },
  {
   "cell_type": "code",
   "execution_count": 6,
   "metadata": {},
   "outputs": [],
   "source": [
    "# take a union of the most presented birds\n",
    "presence_excel = '/Netdata/2020/ziang/data/guangdong194/guangdong194_updated.xlsx'\n",
    "presence_all = pd.read_excel(presence_excel).head(50)\n",
    "# presence_all.head(50)"
   ]
  },
  {
   "cell_type": "code",
   "execution_count": 7,
   "metadata": {},
   "outputs": [],
   "source": [
    "# find intersections with both most presence and data\n",
    "def find_intersection(stats, excel):\n",
    "    count = []\n",
    "    for bird in excel:\n",
    "        if '_'.join(bird.split()).lower() in stats:\n",
    "            count.append('_'.join(bird.split()).lower())\n",
    "#         else:\n",
    "#             print('... %s not satisfied...'%bird)\n",
    "    print('... %d birds in common ...'%len(count))\n",
    "    return count"
   ]
  },
  {
   "cell_type": "code",
   "execution_count": 8,
   "metadata": {},
   "outputs": [
    {
     "name": "stdout",
     "output_type": "stream",
     "text": [
      "... 12 birds in common ...\n"
     ]
    }
   ],
   "source": [
    "birds_most_data = list(all_train_stats.keys())\n",
    "birds_most_pres = list(presence_all['拉丁学名'])\n",
    "best_birds = find_intersection(birds_most_data, birds_most_pres)"
   ]
  },
  {
   "cell_type": "code",
   "execution_count": 9,
   "metadata": {},
   "outputs": [
    {
     "data": {
      "text/plain": [
       "['motacilla_alba',\n",
       " 'hirundo_rustica',\n",
       " 'tringa_glareola',\n",
       " 'charadrius_dubius',\n",
       " 'phylloscopus_fuscatus',\n",
       " 'corvus_macrorhynchos',\n",
       " 'phoenicurus_auroreus',\n",
       " 'gallinula_chloropus',\n",
       " 'ardea_cinerea',\n",
       " 'tringa_nebularia',\n",
       " 'actitis_hypoleucos',\n",
       " 'eudynamys_scolopaceus']"
      ]
     },
     "execution_count": 9,
     "metadata": {},
     "output_type": "execute_result"
    }
   ],
   "source": [
    "best_birds"
   ]
  },
  {
   "cell_type": "code",
   "execution_count": 10,
   "metadata": {},
   "outputs": [
    {
     "data": {
      "text/plain": [
       "32"
      ]
     },
     "execution_count": 10,
     "metadata": {},
     "output_type": "execute_result"
    }
   ],
   "source": [
    "for bird in birds_most_data[:30]:\n",
    "    if bird not in best_birds:\n",
    "        best_birds.append(bird)\n",
    "len(best_birds)"
   ]
  },
  {
   "cell_type": "markdown",
   "metadata": {},
   "source": [
    "### Best 32 Birds\n",
    "Now we have fixed the best bucket containing the best birds with best data and most presence. Originally we have 32 birds, we remove the last two, who has relatively less data. Now we have data of **30** birds in total."
   ]
  },
  {
   "cell_type": "code",
   "execution_count": 11,
   "metadata": {},
   "outputs": [],
   "source": [
    "best_32_stats_train = {bird:len(os.listdir(data_dir_all+bird)) for bird in best_birds}\n",
    "best_30_stats_train = {k: v for k, v in sorted(best_32_stats_train.items(), key=lambda item: item[1], reverse=True) if v > 3900}"
   ]
  },
  {
   "cell_type": "code",
   "execution_count": 12,
   "metadata": {},
   "outputs": [
    {
     "data": {
      "text/plain": [
       "{'phylloscopus_fuscatus': 24602,\n",
       " 'cyanoptila_cyanomelana': 18242,\n",
       " 'motacilla_alba': 16096,\n",
       " 'turdus_merula': 11427,\n",
       " 'ficedula_narcissina': 10377,\n",
       " 'riparia_riparia': 9701,\n",
       " 'limosa_limosa': 8761,\n",
       " 'hirundo_rustica': 8332,\n",
       " 'ardea_cinerea': 8180,\n",
       " 'upupa_epops': 7794,\n",
       " 'cuculus_canorus': 7428,\n",
       " 'pandion_haliaetus': 7301,\n",
       " 'tringa_glareola': 6727,\n",
       " 'muscicapa_griseisticta': 6579,\n",
       " 'acrocephalus_orientalis': 6081,\n",
       " 'chlidonias_hybrida': 5785,\n",
       " 'phoenicurus_auroreus': 5636,\n",
       " 'arenaria_interpres': 5560,\n",
       " 'fulica_atra': 4977,\n",
       " 'falco_peregrinus': 4933,\n",
       " 'falco_subbuteo': 4924,\n",
       " 'charadrius_hiaticula': 4923,\n",
       " 'cisticola_juncidis': 4862,\n",
       " 'actitis_hypoleucos': 4733,\n",
       " 'tringa_nebularia': 4699,\n",
       " 'spilornis_cheela': 4574,\n",
       " 'chroicocephalus_ridibundus': 4478,\n",
       " 'gallinula_chloropus': 4460,\n",
       " 'emberiza_pusilla': 4061,\n",
       " 'corvus_macrorhynchos': 3911}"
      ]
     },
     "execution_count": 12,
     "metadata": {},
     "output_type": "execute_result"
    }
   ],
   "source": [
    "best_30_stats_train"
   ]
  },
  {
   "cell_type": "code",
   "execution_count": 13,
   "metadata": {},
   "outputs": [],
   "source": [
    "data_dir_val = '/Netdata/2020/ziang/data/guangdong194/dataset/splited_data/val_dirs/'\n",
    "best_32_stats_val = {bird:len(os.listdir(data_dir_val+bird)) for bird in best_birds}\n",
    "best_32_stats_val = {k: v for k, v in sorted(best_32_stats_val.items(), key=lambda item: item[1], reverse=True)}"
   ]
  },
  {
   "cell_type": "code",
   "execution_count": 14,
   "metadata": {},
   "outputs": [
    {
     "data": {
      "text/plain": [
       "{'phylloscopus_fuscatus': 5142,\n",
       " 'cyanoptila_cyanomelana': 5128,\n",
       " 'arenaria_interpres': 2631,\n",
       " 'motacilla_alba': 2536,\n",
       " 'cuculus_canorus': 2178,\n",
       " 'turdus_merula': 1995,\n",
       " 'riparia_riparia': 1814,\n",
       " 'ficedula_narcissina': 1760,\n",
       " 'acrocephalus_orientalis': 1624,\n",
       " 'hirundo_rustica': 1590,\n",
       " 'chlidonias_hybrida': 1426,\n",
       " 'pandion_haliaetus': 1369,\n",
       " 'muscicapa_griseisticta': 1149,\n",
       " 'tringa_glareola': 1136,\n",
       " 'upupa_epops': 1095,\n",
       " 'limosa_limosa': 1069,\n",
       " 'fulica_atra': 1064,\n",
       " 'phoenicurus_auroreus': 995,\n",
       " 'ardea_cinerea': 991,\n",
       " 'cisticola_juncidis': 989,\n",
       " 'spilornis_cheela': 963,\n",
       " 'corvus_macrorhynchos': 767,\n",
       " 'actitis_hypoleucos': 764,\n",
       " 'falco_subbuteo': 753,\n",
       " 'tringa_nebularia': 677,\n",
       " 'charadrius_hiaticula': 611,\n",
       " 'chroicocephalus_ridibundus': 562,\n",
       " 'emberiza_pusilla': 547,\n",
       " 'falco_peregrinus': 528,\n",
       " 'gallinula_chloropus': 490}"
      ]
     },
     "execution_count": 14,
     "metadata": {},
     "output_type": "execute_result"
    }
   ],
   "source": [
    "best_30_stats_val = best_32_stats_val\n",
    "del best_30_stats_val['eudynamys_scolopaceus']\n",
    "del best_30_stats_val['charadrius_dubius']\n",
    "best_30_stats_val"
   ]
  },
  {
   "cell_type": "code",
   "execution_count": null,
   "metadata": {},
   "outputs": [],
   "source": []
  },
  {
   "cell_type": "markdown",
   "metadata": {},
   "source": [
    "Now we set train the model with each bird approximately 4000 clips, correspondingly 400 clips for validation each bird"
   ]
  },
  {
   "cell_type": "code",
   "execution_count": 15,
   "metadata": {},
   "outputs": [],
   "source": [
    "train_h5 = '/DATA1/ziang/data/guangdong194/train_h5/'\n",
    "val_h5 = '/DATA1/ziang/data/guangdong194/val_h5/'"
   ]
  },
  {
   "cell_type": "code",
   "execution_count": 16,
   "metadata": {},
   "outputs": [
    {
     "data": {
      "text/plain": [
       "'/DATA1/ziang/data/guangdong194/train_h5/LittleEgret_448972_seg_52.wav.h5'"
      ]
     },
     "execution_count": 16,
     "metadata": {},
     "output_type": "execute_result"
    }
   ],
   "source": [
    "all_train_h5 = [train_h5+x for x in os.listdir(train_h5)]\n",
    "all_train_h5[1]"
   ]
  },
  {
   "cell_type": "code",
   "execution_count": 17,
   "metadata": {},
   "outputs": [
    {
     "data": {
      "text/plain": [
       "'/Netdata/2020/ziang/data/guangdong194/dataset/splited_data/train_dirs/motacilla_alba/370003_seg_1.wav'"
      ]
     },
     "execution_count": 17,
     "metadata": {},
     "output_type": "execute_result"
    }
   ],
   "source": [
    "all_train_segs = []\n",
    "for bird in all_birds:\n",
    "    all_train_segs += [data_dir_all+bird+'/'+x for x in os.listdir(data_dir_all+bird)]\n",
    "all_train_segs[1]"
   ]
  },
  {
   "cell_type": "markdown",
   "metadata": {},
   "source": [
    "#### Create latin2eng dict"
   ]
  },
  {
   "cell_type": "code",
   "execution_count": 18,
   "metadata": {},
   "outputs": [],
   "source": [
    "excel_dir = '/Netdata/2020/ziang/data/guangdong194/guangdong194_updated.xlsx'\n",
    "bird_194 = pd.read_excel(excel_dir)\n",
    "# create latin2eng dict\n",
    "latin = list(bird_194['拉丁学名'])\n",
    "eng = list(bird_194['英文名称'])\n",
    "latin2eng = {'_'.join(latin[i].split()).lower():''.join(eng[i].split()) for i in range(len(latin))}"
   ]
  },
  {
   "cell_type": "code",
   "execution_count": 19,
   "metadata": {},
   "outputs": [
    {
     "data": {
      "text/plain": [
       "'WhiteWagtail'"
      ]
     },
     "execution_count": 19,
     "metadata": {},
     "output_type": "execute_result"
    }
   ],
   "source": [
    "sample_h5 = all_train_h5[1]\n",
    "sample_seg = all_train_segs[1]\n",
    "latin2eng[sample_seg.split('/')[-2]]"
   ]
  },
  {
   "cell_type": "code",
   "execution_count": 20,
   "metadata": {},
   "outputs": [
    {
     "data": {
      "text/plain": [
       "'EurasianHoopoe'"
      ]
     },
     "execution_count": 20,
     "metadata": {},
     "output_type": "execute_result"
    }
   ],
   "source": [
    "latin2eng['upupa_epops']"
   ]
  },
  {
   "cell_type": "code",
   "execution_count": 3,
   "metadata": {},
   "outputs": [
    {
     "ename": "NameError",
     "evalue": "name 'best_30_stats_train' is not defined",
     "output_type": "error",
     "traceback": [
      "\u001b[0;31m---------------------------------------------------------------------------\u001b[0m",
      "\u001b[0;31mNameError\u001b[0m                                 Traceback (most recent call last)",
      "\u001b[0;32m<ipython-input-3-033737aca386>\u001b[0m in \u001b[0;36m<module>\u001b[0;34m\u001b[0m\n\u001b[1;32m      2\u001b[0m \u001b[0mval_max\u001b[0m \u001b[0;34m=\u001b[0m \u001b[0;36m400\u001b[0m\u001b[0;34m\u001b[0m\u001b[0;34m\u001b[0m\u001b[0m\n\u001b[1;32m      3\u001b[0m \u001b[0mindex_dir\u001b[0m \u001b[0;34m=\u001b[0m \u001b[0;34m'/DATA1/ziang/index/best_30/'\u001b[0m\u001b[0;34m\u001b[0m\u001b[0;34m\u001b[0m\u001b[0m\n\u001b[0;32m----> 4\u001b[0;31m \u001b[0mbest_30_birds\u001b[0m \u001b[0;34m=\u001b[0m \u001b[0mlist\u001b[0m\u001b[0;34m(\u001b[0m\u001b[0mbest_30_stats_train\u001b[0m\u001b[0;34m.\u001b[0m\u001b[0mkeys\u001b[0m\u001b[0;34m(\u001b[0m\u001b[0;34m)\u001b[0m\u001b[0;34m)\u001b[0m\u001b[0;34m\u001b[0m\u001b[0;34m\u001b[0m\u001b[0m\n\u001b[0m",
      "\u001b[0;31mNameError\u001b[0m: name 'best_30_stats_train' is not defined"
     ]
    }
   ],
   "source": [
    "train_max = 4000\n",
    "val_max = 400\n",
    "index_dir = '/DATA1/ziang/index/best_30/'\n",
    "best_30_birds = list(best_30_stats_train.keys())"
   ]
  },
  {
   "cell_type": "code",
   "execution_count": 22,
   "metadata": {},
   "outputs": [
    {
     "name": "stderr",
     "output_type": "stream",
     "text": [
      "100%|██████████| 30/30 [00:00<00:00, 30.24it/s]\n"
     ]
    }
   ],
   "source": [
    "# select 4000 each bird for training set and create train index\n",
    "utt2wav_text = \"\"\n",
    "utt2label_text = \"\"\n",
    "for bird in tqdm(best_30_birds):\n",
    "    bird_segs = [data_dir_all+bird+'/'+x for x in os.listdir(data_dir_all+bird)]\n",
    "    shuffle(bird_segs)\n",
    "    if len(bird_segs) > train_max:\n",
    "        tmp_segs = bird_segs[:train_max]\n",
    "    else:\n",
    "        tmp_segs = bird_segs\n",
    "    u2w_text_segs = ['_'.join(x.split('/')[-2:])[:-4] + ' ' + train_h5+latin2eng[x.split('/')[-2]]+'_'+x.split('/')[-1]+'.h5' for x in tmp_segs]\n",
    "    u2l_text_segs = ['_'.join(x.split('/')[-2:])[:-4] + ' ' + x.split('/')[-2] for x in tmp_segs]\n",
    "    u2w_demo_text = '\\n'.join(u2w_text_segs)\n",
    "    u2l_demo_text = '\\n'.join(u2l_text_segs)\n",
    "    utt2wav_text += u2w_demo_text\n",
    "    utt2label_text += u2l_demo_text\n",
    "with open(index_dir+'train_utt2wav','w') as f:\n",
    "    f.write(utt2wav_text)\n",
    "with open(index_dir+'train_utt2label','w') as f:\n",
    "    f.write(utt2label_text)"
   ]
  },
  {
   "cell_type": "code",
   "execution_count": 24,
   "metadata": {},
   "outputs": [
    {
     "data": {
      "text/plain": [
       "True"
      ]
     },
     "execution_count": 24,
     "metadata": {},
     "output_type": "execute_result"
    }
   ],
   "source": [
    "os.path.isfile('/DATA1/ziang/data/guangdong194/train_h5/EurasianHoopoe_484332_seg_4.wav.h5')"
   ]
  },
  {
   "cell_type": "code",
   "execution_count": 4,
   "metadata": {},
   "outputs": [
    {
     "ename": "NameError",
     "evalue": "name 'best_30_birds' is not defined",
     "output_type": "error",
     "traceback": [
      "\u001b[0;31m---------------------------------------------------------------------------\u001b[0m",
      "\u001b[0;31mNameError\u001b[0m                                 Traceback (most recent call last)",
      "\u001b[0;32m<ipython-input-4-3ab0e8da3067>\u001b[0m in \u001b[0;36m<module>\u001b[0;34m\u001b[0m\n\u001b[1;32m      4\u001b[0m \u001b[0mutt2wav_text\u001b[0m \u001b[0;34m=\u001b[0m \u001b[0;34m\"\"\u001b[0m\u001b[0;34m\u001b[0m\u001b[0;34m\u001b[0m\u001b[0m\n\u001b[1;32m      5\u001b[0m \u001b[0mutt2label_text\u001b[0m \u001b[0;34m=\u001b[0m \u001b[0;34m\"\"\u001b[0m\u001b[0;34m\u001b[0m\u001b[0;34m\u001b[0m\u001b[0m\n\u001b[0;32m----> 6\u001b[0;31m \u001b[0;32mfor\u001b[0m \u001b[0mbird\u001b[0m \u001b[0;32min\u001b[0m \u001b[0mtqdm\u001b[0m\u001b[0;34m(\u001b[0m\u001b[0mbest_30_birds\u001b[0m\u001b[0;34m)\u001b[0m\u001b[0;34m:\u001b[0m\u001b[0;34m\u001b[0m\u001b[0;34m\u001b[0m\u001b[0m\n\u001b[0m\u001b[1;32m      7\u001b[0m     \u001b[0mbird_segs\u001b[0m \u001b[0;34m=\u001b[0m \u001b[0;34m[\u001b[0m\u001b[0mdata_dir_val\u001b[0m\u001b[0;34m+\u001b[0m\u001b[0mbird\u001b[0m\u001b[0;34m+\u001b[0m\u001b[0;34m'/'\u001b[0m\u001b[0;34m+\u001b[0m\u001b[0mx\u001b[0m \u001b[0;32mfor\u001b[0m \u001b[0mx\u001b[0m \u001b[0;32min\u001b[0m \u001b[0mos\u001b[0m\u001b[0;34m.\u001b[0m\u001b[0mlistdir\u001b[0m\u001b[0;34m(\u001b[0m\u001b[0mdata_dir_val\u001b[0m\u001b[0;34m+\u001b[0m\u001b[0mbird\u001b[0m\u001b[0;34m)\u001b[0m\u001b[0;34m]\u001b[0m\u001b[0;34m\u001b[0m\u001b[0;34m\u001b[0m\u001b[0m\n\u001b[1;32m      8\u001b[0m     \u001b[0mshuffle\u001b[0m\u001b[0;34m(\u001b[0m\u001b[0mbird_segs\u001b[0m\u001b[0;34m)\u001b[0m\u001b[0;34m\u001b[0m\u001b[0;34m\u001b[0m\u001b[0m\n",
      "\u001b[0;31mNameError\u001b[0m: name 'best_30_birds' is not defined"
     ]
    }
   ],
   "source": [
    "# select 4000 each bird for valid set and create valid index\n",
    "utt2wav_text = \"\"\n",
    "utt2label_text = \"\"\n",
    "for bird in tqdm(best_30_birds):\n",
    "    bird_segs = [data_dir_val+bird+'/'+x for x in os.listdir(data_dir_val+bird)]\n",
    "    shuffle(bird_segs)\n",
    "    if len(bird_segs) > val_max:\n",
    "        tmp_segs = bird_segs[:val_max]\n",
    "    else:\n",
    "        tmp_segs = bird_segs\n",
    "    u2w_text_segs = ['_'.join(x.split('/')[-2:])[:-4] + ' ' + val_h5+latin2eng[x.split('/')[-2]]+'_'+x.split('/')[-1]+'.h5' for x in tmp_segs]\n",
    "    u2l_text_segs = ['_'.join(x.split('/')[-2:])[:-4] + ' ' + x.split('/')[-2] for x in tmp_segs]\n",
    "    u2w_demo_text = '\\n'.join(u2w_text_segs)\n",
    "    u2l_demo_text = '\\n'.join(u2l_text_segs)\n",
    "    utt2wav_text += u2w_demo_text\n",
    "    utt2label_text += u2l_demo_text\n",
    "with open(index_dir+'val_utt2wav','w') as f:\n",
    "    f.write(utt2wav_text)\n",
    "with open(index_dir+'val_utt2label','w') as f:\n",
    "    f.write(utt2label_text)"
   ]
  },
  {
   "cell_type": "markdown",
   "metadata": {},
   "source": [
    "#### Check validity of paths"
   ]
  },
  {
   "cell_type": "code",
   "execution_count": 6,
   "metadata": {},
   "outputs": [
    {
     "name": "stdout",
     "output_type": "stream",
     "text": [
      "... /DATA1/ziang/data/guangdong194/val_h5/DuskyWarbler_458710_seg_238.wav.h5cyanoptila_cyanomelana_177234_seg_108 does not exist ...\n",
      "... /DATA1/ziang/data/guangdong194/val_h5/Blue-and-whiteFlycatcher_429814_seg_17.wav.h5motacilla_alba_278653_seg_31 does not exist ...\n",
      "... /DATA1/ziang/data/guangdong194/val_h5/WhiteWagtail_576653_seg_3.wav.h5turdus_merula_583789_seg_194 does not exist ...\n",
      "... /DATA1/ziang/data/guangdong194/val_h5/CommonBlackbird_562366_seg_290.wav.h5ficedula_narcissina_156008_seg_23 does not exist ...\n",
      "... /DATA1/ziang/data/guangdong194/val_h5/NarcissusFlycatcher_268043_seg_0.wav.h5riparia_riparia_123944_seg_9 does not exist ...\n",
      "... /DATA1/ziang/data/guangdong194/val_h5/SandMartin_426147_seg_26.wav.h5limosa_limosa_318214_seg_1 does not exist ...\n",
      "... /DATA1/ziang/data/guangdong194/val_h5/Black-tailedGodwit_281105_seg_26.wav.h5hirundo_rustica_378927_seg_478 does not exist ...\n",
      "... /DATA1/ziang/data/guangdong194/val_h5/BarnSwallow_575747_seg_24.wav.h5ardea_cinerea_280972_seg_47 does not exist ...\n",
      "... /DATA1/ziang/data/guangdong194/val_h5/GreyHeron_349532_seg_22.wav.h5upupa_epops_462754_seg_28 does not exist ...\n",
      "... /DATA1/ziang/data/guangdong194/val_h5/EurasianHoopoe_480798_seg_2.wav.h5cuculus_canorus_253817_seg_512 does not exist ...\n",
      "... /DATA1/ziang/data/guangdong194/val_h5/CommonCuckoo_285268_seg_109.wav.h5pandion_haliaetus_272313_seg_51 does not exist ...\n",
      "... /DATA1/ziang/data/guangdong194/val_h5/WesternOsprey_272313_seg_205.wav.h5tringa_glareola_567028_seg_0 does not exist ...\n",
      "... /DATA1/ziang/data/guangdong194/val_h5/WoodSandpiper_460204_seg_12.wav.h5muscicapa_griseisticta_464952_seg_1 does not exist ...\n",
      "... /DATA1/ziang/data/guangdong194/val_h5/Grey-streakedFlycatcher_461830_seg_103.wav.h5acrocephalus_orientalis_379648_seg_60 does not exist ...\n",
      "... /DATA1/ziang/data/guangdong194/val_h5/OrientalReedWarbler_389049_seg_301.wav.h5chlidonias_hybrida_580160_seg_48 does not exist ...\n",
      "... /DATA1/ziang/data/guangdong194/val_h5/WhiskeredTern_265268_seg_599.wav.h5phoenicurus_auroreus_437983_seg_48 does not exist ...\n",
      "... /DATA1/ziang/data/guangdong194/val_h5/DaurianRedstart_543743_seg_2.wav.h5arenaria_interpres_478859_seg_751 does not exist ...\n",
      "... /DATA1/ziang/data/guangdong194/val_h5/RuddyTurnstone_478859_seg_73.wav.h5fulica_atra_523375_seg_1 does not exist ...\n",
      "... /DATA1/ziang/data/guangdong194/val_h5/EurasianCoot_504105_seg_55.wav.h5falco_peregrinus_587278_seg_18 does not exist ...\n",
      "... /DATA1/ziang/data/guangdong194/val_h5/PeregrineFalcon_344930_seg_6.wav.h5falco_subbuteo_137816_seg_37 does not exist ...\n",
      "... /DATA1/ziang/data/guangdong194/val_h5/EurasianHobby_477060_seg_10.wav.h5charadrius_hiaticula_494511_seg_91 does not exist ...\n",
      "... /DATA1/ziang/data/guangdong194/val_h5/CommonRingedPlover_563177_seg_18.wav.h5cisticola_juncidis_178932_seg_23 does not exist ...\n",
      "... /DATA1/ziang/data/guangdong194/val_h5/ZittingCisticola_471757_seg_10.wav.h5actitis_hypoleucos_484233_seg_166 does not exist ...\n",
      "... /DATA1/ziang/data/guangdong194/val_h5/CommonSandpiper_484233_seg_78.wav.h5tringa_nebularia_108080_seg_1 does not exist ...\n",
      "... /DATA1/ziang/data/guangdong194/val_h5/CommonGreenshank_396618_seg_13.wav.h5spilornis_cheela_151501_seg_15 does not exist ...\n",
      "... /DATA1/ziang/data/guangdong194/val_h5/CrestedSerpentEagle_338049_seg_52.wav.h5chroicocephalus_ridibundus_595379_seg_65 does not exist ...\n",
      "... /DATA1/ziang/data/guangdong194/val_h5/Black-headedGull_409974_seg_41.wav.h5gallinula_chloropus_77379_seg_10 does not exist ...\n",
      "... /DATA1/ziang/data/guangdong194/val_h5/CommonMoorhen_542332_seg_8.wav.h5emberiza_pusilla_432391_seg_2 does not exist ...\n",
      "... /DATA1/ziang/data/guangdong194/val_h5/LittleBunting_377963_seg_43.wav.h5corvus_macrorhynchos_116709_seg_59 does not exist ...\n"
     ]
    }
   ],
   "source": [
    "index_dir = '/DATA1/ziang/index/best_30/'\n",
    "new_utt2wav_text = \"\"\n",
    "new_utt2label_text = \"\"\n",
    "with open('/DATA1/ziang/index/best_30/val_utt2wav','r') as f:\n",
    "    for line in f:\n",
    "        path = line.split()[1]\n",
    "        if not os.path.isfile(path):\n",
    "            print(\"... %s does not exist ...\"%path)\n",
    "        else:\n",
    "            new_utt2wav_text += line.split()[0]+' '+'_'.join(line.split()[0].split('_')[:2])+'\\n'\n",
    "with open(index_dir+'new_val_utt2label', 'w') as f:\n",
    "    f.write(new_utt2wav_text)"
   ]
  },
  {
   "cell_type": "code",
   "execution_count": null,
   "metadata": {},
   "outputs": [],
   "source": []
  }
 ],
 "metadata": {
  "kernelspec": {
   "display_name": "ComParE2019",
   "language": "python",
   "name": "compare2019"
  },
  "language_info": {
   "codemirror_mode": {
    "name": "ipython",
    "version": 3
   },
   "file_extension": ".py",
   "mimetype": "text/x-python",
   "name": "python",
   "nbconvert_exporter": "python",
   "pygments_lexer": "ipython3",
   "version": "3.7.6"
  }
 },
 "nbformat": 4,
 "nbformat_minor": 4
}
